{
 "cells": [
  {
   "cell_type": "markdown",
   "metadata": {},
   "source": [
    "# Assignment 2 (Part a):  Decision Trees\n",
    "\n",
    "Decision trees can be used for either regression or classification tasks. Decision trees are a powerful tool; however, are very prone to overfitting the training dataset and therefore often fail to generalize well to test data sets. However, they are the building block for several other powerful machine learning algorithms and are therefore important to learn about.\n",
    "\n",
    "\n",
    "What we'll be doing in this notebook:\n",
    "-----\n",
    "\n",
    "1. Import packages\n",
    "2. Load data\n",
    "3. Build a Decision Tree\n",
    "4. Tune parameters\n",
    "5. Feature importance\n",
    "6. Homework\n",
    "7. Advanced material\n",
    "\n",
    "Our previous Linear regression model assumes linearity among others.\n",
    "\n",
    "Whereas decision trees and associated algorithms are no longer restricted to independent variables which have a linear relationship and we don't have to ensure several assumptions are true. \n",
    "\n",
    "Therefore we can start to bring in other features that could be useful.\n",
    "\n",
    "After we run our decision trees, we will compare our new output to our output from the linear regressions we ran in the previous notebook. \n",
    "\n",
    "In this notebook, we will be looking at how we can predict the loan amount using decision trees. \n",
    "\n",
    "Here is visual introduction to [decision trees](https://algobeans.com/2016/07/27/decision-trees-tutorial/)"
   ]
  },
  {
   "cell_type": "markdown",
   "metadata": {},
   "source": [
    "## 1. Import packages"
   ]
  },
  {
   "cell_type": "code",
   "execution_count": 457,
   "metadata": {},
   "outputs": [],
   "source": [
    "#importing packages\n",
    "import pandas as pd\n",
    "import numpy as np\n",
    "\n",
    "import matplotlib.pyplot as plt\n",
    "import seaborn as sns\n",
    "%matplotlib inline\n",
    "\n",
    "from sklearn.model_selection import train_test_split, cross_val_score, GridSearchCV\n",
    "from sklearn.tree import DecisionTreeRegressor\n",
    "from sklearn import tree\n",
    "from sklearn.metrics import mean_squared_error, r2_score"
   ]
  },
  {
   "cell_type": "markdown",
   "metadata": {},
   "source": [
    "## Question 1. Load and format data (1 point)"
   ]
  },
  {
   "cell_type": "code",
   "execution_count": 458,
   "metadata": {},
   "outputs": [
    {
     "data": {
      "text/html": [
       "<div>\n",
       "<style scoped>\n",
       "    .dataframe tbody tr th:only-of-type {\n",
       "        vertical-align: middle;\n",
       "    }\n",
       "\n",
       "    .dataframe tbody tr th {\n",
       "        vertical-align: top;\n",
       "    }\n",
       "\n",
       "    .dataframe thead th {\n",
       "        text-align: right;\n",
       "    }\n",
       "</style>\n",
       "<table border=\"1\" class=\"dataframe\">\n",
       "  <thead>\n",
       "    <tr style=\"text-align: right;\">\n",
       "      <th></th>\n",
       "      <th>id_number</th>\n",
       "      <th>loan_amount</th>\n",
       "      <th>lender_count</th>\n",
       "      <th>status</th>\n",
       "      <th>funded_date</th>\n",
       "      <th>funded_amount</th>\n",
       "      <th>repayment_term</th>\n",
       "      <th>location_country_code</th>\n",
       "      <th>sector</th>\n",
       "      <th>description</th>\n",
       "      <th>use</th>\n",
       "    </tr>\n",
       "  </thead>\n",
       "  <tbody>\n",
       "    <tr>\n",
       "      <td>0</td>\n",
       "      <td>736066</td>\n",
       "      <td>4825</td>\n",
       "      <td>60</td>\n",
       "      <td>funded</td>\n",
       "      <td>2014-08-03T17:51:50Z</td>\n",
       "      <td>4825</td>\n",
       "      <td>8</td>\n",
       "      <td>BJ</td>\n",
       "      <td>Retail</td>\n",
       "      <td>NaN</td>\n",
       "      <td>NaN</td>\n",
       "    </tr>\n",
       "    <tr>\n",
       "      <td>1</td>\n",
       "      <td>743090</td>\n",
       "      <td>975</td>\n",
       "      <td>34</td>\n",
       "      <td>funded</td>\n",
       "      <td>2014-08-18T09:10:54Z</td>\n",
       "      <td>975</td>\n",
       "      <td>12</td>\n",
       "      <td>BJ</td>\n",
       "      <td>Food</td>\n",
       "      <td>NaN</td>\n",
       "      <td>NaN</td>\n",
       "    </tr>\n",
       "    <tr>\n",
       "      <td>2</td>\n",
       "      <td>743120</td>\n",
       "      <td>950</td>\n",
       "      <td>25</td>\n",
       "      <td>funded</td>\n",
       "      <td>2014-08-09T17:46:35Z</td>\n",
       "      <td>950</td>\n",
       "      <td>14</td>\n",
       "      <td>BJ</td>\n",
       "      <td>Services</td>\n",
       "      <td>NaN</td>\n",
       "      <td>NaN</td>\n",
       "    </tr>\n",
       "    <tr>\n",
       "      <td>3</td>\n",
       "      <td>743121</td>\n",
       "      <td>825</td>\n",
       "      <td>28</td>\n",
       "      <td>funded</td>\n",
       "      <td>2014-08-24T17:00:38Z</td>\n",
       "      <td>825</td>\n",
       "      <td>14</td>\n",
       "      <td>BJ</td>\n",
       "      <td>Retail</td>\n",
       "      <td>NaN</td>\n",
       "      <td>NaN</td>\n",
       "    </tr>\n",
       "    <tr>\n",
       "      <td>4</td>\n",
       "      <td>743124</td>\n",
       "      <td>725</td>\n",
       "      <td>21</td>\n",
       "      <td>funded</td>\n",
       "      <td>2014-08-25T03:24:54Z</td>\n",
       "      <td>725</td>\n",
       "      <td>13</td>\n",
       "      <td>BJ</td>\n",
       "      <td>Retail</td>\n",
       "      <td>NaN</td>\n",
       "      <td>NaN</td>\n",
       "    </tr>\n",
       "  </tbody>\n",
       "</table>\n",
       "</div>"
      ],
      "text/plain": [
       "   id_number  loan_amount  lender_count  status           funded_date  \\\n",
       "0     736066         4825            60  funded  2014-08-03T17:51:50Z   \n",
       "1     743090          975            34  funded  2014-08-18T09:10:54Z   \n",
       "2     743120          950            25  funded  2014-08-09T17:46:35Z   \n",
       "3     743121          825            28  funded  2014-08-24T17:00:38Z   \n",
       "4     743124          725            21  funded  2014-08-25T03:24:54Z   \n",
       "\n",
       "   funded_amount  repayment_term location_country_code    sector description  \\\n",
       "0           4825               8                    BJ    Retail         NaN   \n",
       "1            975              12                    BJ      Food         NaN   \n",
       "2            950              14                    BJ  Services         NaN   \n",
       "3            825              14                    BJ    Retail         NaN   \n",
       "4            725              13                    BJ    Retail         NaN   \n",
       "\n",
       "   use  \n",
       "0  NaN  \n",
       "1  NaN  \n",
       "2  NaN  \n",
       "3  NaN  \n",
       "4  NaN  "
      ]
     },
     "execution_count": 458,
     "metadata": {},
     "output_type": "execute_result"
    }
   ],
   "source": [
    "# Q1: Load data saved locally from loans.csv\n",
    "# you should load the data in a dataframe - name the variable df\n",
    "\n",
    "path = '/Users/jackphillips/Downloads/loans.csv'\n",
    "df = pd.read_csv(path)\n",
    "\n",
    "df.head()"
   ]
  },
  {
   "cell_type": "markdown",
   "metadata": {},
   "source": [
    "We are going to build regressors to predict the loan amount and we will build a tree that considers many features in the dataset - including those we have engineered ourselves.\n",
    "\n",
    "Here we choose a limited subset of data to conduct the analysis for the sake of training time. In practice, we should use more features. This is a mix of numeric and one hot-coded categorical variables. "
   ]
  },
  {
   "cell_type": "markdown",
   "metadata": {},
   "source": [
    "## Question 2: Drop columns that are not numeric in your dataframe (1 point)"
   ]
  },
  {
   "cell_type": "code",
   "execution_count": 459,
   "metadata": {},
   "outputs": [
    {
     "data": {
      "text/html": [
       "<div>\n",
       "<style scoped>\n",
       "    .dataframe tbody tr th:only-of-type {\n",
       "        vertical-align: middle;\n",
       "    }\n",
       "\n",
       "    .dataframe tbody tr th {\n",
       "        vertical-align: top;\n",
       "    }\n",
       "\n",
       "    .dataframe thead th {\n",
       "        text-align: right;\n",
       "    }\n",
       "</style>\n",
       "<table border=\"1\" class=\"dataframe\">\n",
       "  <thead>\n",
       "    <tr style=\"text-align: right;\">\n",
       "      <th></th>\n",
       "      <th>id_number</th>\n",
       "      <th>loan_amount</th>\n",
       "      <th>lender_count</th>\n",
       "      <th>funded_amount</th>\n",
       "      <th>repayment_term</th>\n",
       "    </tr>\n",
       "  </thead>\n",
       "  <tbody>\n",
       "    <tr>\n",
       "      <td>0</td>\n",
       "      <td>736066</td>\n",
       "      <td>4825</td>\n",
       "      <td>60</td>\n",
       "      <td>4825</td>\n",
       "      <td>8</td>\n",
       "    </tr>\n",
       "    <tr>\n",
       "      <td>1</td>\n",
       "      <td>743090</td>\n",
       "      <td>975</td>\n",
       "      <td>34</td>\n",
       "      <td>975</td>\n",
       "      <td>12</td>\n",
       "    </tr>\n",
       "    <tr>\n",
       "      <td>2</td>\n",
       "      <td>743120</td>\n",
       "      <td>950</td>\n",
       "      <td>25</td>\n",
       "      <td>950</td>\n",
       "      <td>14</td>\n",
       "    </tr>\n",
       "    <tr>\n",
       "      <td>3</td>\n",
       "      <td>743121</td>\n",
       "      <td>825</td>\n",
       "      <td>28</td>\n",
       "      <td>825</td>\n",
       "      <td>14</td>\n",
       "    </tr>\n",
       "    <tr>\n",
       "      <td>4</td>\n",
       "      <td>743124</td>\n",
       "      <td>725</td>\n",
       "      <td>21</td>\n",
       "      <td>725</td>\n",
       "      <td>13</td>\n",
       "    </tr>\n",
       "    <tr>\n",
       "      <td>...</td>\n",
       "      <td>...</td>\n",
       "      <td>...</td>\n",
       "      <td>...</td>\n",
       "      <td>...</td>\n",
       "      <td>...</td>\n",
       "    </tr>\n",
       "    <tr>\n",
       "      <td>6014</td>\n",
       "      <td>1568871</td>\n",
       "      <td>200</td>\n",
       "      <td>8</td>\n",
       "      <td>200</td>\n",
       "      <td>14</td>\n",
       "    </tr>\n",
       "    <tr>\n",
       "      <td>6015</td>\n",
       "      <td>1568880</td>\n",
       "      <td>200</td>\n",
       "      <td>8</td>\n",
       "      <td>200</td>\n",
       "      <td>14</td>\n",
       "    </tr>\n",
       "    <tr>\n",
       "      <td>6016</td>\n",
       "      <td>1568883</td>\n",
       "      <td>200</td>\n",
       "      <td>6</td>\n",
       "      <td>200</td>\n",
       "      <td>14</td>\n",
       "    </tr>\n",
       "    <tr>\n",
       "      <td>6017</td>\n",
       "      <td>1568887</td>\n",
       "      <td>200</td>\n",
       "      <td>8</td>\n",
       "      <td>200</td>\n",
       "      <td>14</td>\n",
       "    </tr>\n",
       "    <tr>\n",
       "      <td>6018</td>\n",
       "      <td>1568890</td>\n",
       "      <td>200</td>\n",
       "      <td>8</td>\n",
       "      <td>200</td>\n",
       "      <td>14</td>\n",
       "    </tr>\n",
       "  </tbody>\n",
       "</table>\n",
       "<p>6019 rows × 5 columns</p>\n",
       "</div>"
      ],
      "text/plain": [
       "      id_number  loan_amount  lender_count  funded_amount  repayment_term\n",
       "0        736066         4825            60           4825               8\n",
       "1        743090          975            34            975              12\n",
       "2        743120          950            25            950              14\n",
       "3        743121          825            28            825              14\n",
       "4        743124          725            21            725              13\n",
       "...         ...          ...           ...            ...             ...\n",
       "6014    1568871          200             8            200              14\n",
       "6015    1568880          200             8            200              14\n",
       "6016    1568883          200             6            200              14\n",
       "6017    1568887          200             8            200              14\n",
       "6018    1568890          200             8            200              14\n",
       "\n",
       "[6019 rows x 5 columns]"
      ]
     },
     "execution_count": 459,
     "metadata": {},
     "output_type": "execute_result"
    }
   ],
   "source": [
    "# Q2: Drop everything that is not numeric\n",
    "#one line of code goes here\n",
    "df=df._get_numeric_data()\n",
    "df"
   ]
  },
  {
   "cell_type": "code",
   "execution_count": 460,
   "metadata": {},
   "outputs": [],
   "source": [
    "y_column = 'loan_amount'\n",
    "y = df[y_column]\n",
    "# Drop returns a copy of the DataFrame with the specified columns removed.  \n",
    "X = df.drop([y_column, \"id_number\"], axis=1) # id_number will not be helpful"
   ]
  },
  {
   "cell_type": "code",
   "execution_count": 461,
   "metadata": {},
   "outputs": [],
   "source": [
    "# Split data into training and testing sets\n",
    "X_train, X_test, y_train, y_test = train_test_split(X, y, test_size=0.2, random_state=42)"
   ]
  },
  {
   "cell_type": "markdown",
   "metadata": {},
   "source": [
    "## 3. Build a Decision Tree\n",
    "We will use sklearn's implementation of a Decision Tree Regressor and to learn how to use it, here are the [docs](http://scikit-learn.org/stable/modules/generated/sklearn.tree.DecisionTreeRegressor.html#sklearn.tree.DecisionTreeRegressor.get_params), or simply put a question mark before a call to the class.  \n",
    "\n",
    "Prepending a ? to any method, variable, or class will display that method's defined docstring (way to go IPython!)"
   ]
  },
  {
   "cell_type": "code",
   "execution_count": 462,
   "metadata": {},
   "outputs": [],
   "source": [
    "#DecisionTreeRegressor?"
   ]
  },
  {
   "cell_type": "markdown",
   "metadata": {},
   "source": [
    "Many of the sklearn algorithms are implemented using the same standard steps: \n",
    "- **Step 1: Initiate the algorithm** Define the parameters (& hyperparameters of the algorithm) of the algorithm. For example, the maximum depth, the minimum samples in a leaf etc. (check documentation for more information)\n",
    "\n",
    "- **Step 2: Train the algorithm** Train the algorithm by fitting it to the X_train and y_train datasets.\n",
    "\n",
    "- **Step 3: Evaluating the algorithm** Evaluate the predictive power of the algorithm by comparing the predictive loan amount values to the true values. We can do this for the training and testing dataset."
   ]
  },
  {
   "cell_type": "markdown",
   "metadata": {},
   "source": [
    "## Question 3. Define a function which encapsulates the three steps outlined above (3 points)"
   ]
  },
  {
   "cell_type": "markdown",
   "metadata": {},
   "source": [
    "Define a function which encapsulates the 3 model implementation steps; Initialize, Train, Evaluate our decision tree regressor. "
   ]
  },
  {
   "cell_type": "code",
   "execution_count": 463,
   "metadata": {},
   "outputs": [],
   "source": [
    "def train_score_regressor(sklearn_regressor, X_train, y_train, X_test, y_test, model_parameters, print_oob_score=False):\n",
    "    \"\"\"A helper function that:\n",
    "        - Trains a regressor on training data\n",
    "        - Scores data on training and test data\n",
    "        - Returns a trained model\n",
    "    \"\"\"\n",
    "    # Step 1: Initializing the sklearn regressor \n",
    "    regressor=sklearn_regressor(**model_parameters)\n",
    "    # Step 2: Training the algorithm using the X_train dataset of features and y_train, the associated target features\n",
    "    regressor.fit(X_train, y_train)\n",
    "    # Step 3: Calculating the score of the predictive power on the training and testing dataset.\n",
    "    #your code goes here\n",
    "    pred1=regressor.predict(X_train)\n",
    "    pred2=regressor.predict(X_test)\n",
    "    # Print the results!\n",
    "    #print(sklearn_regressor.score(X_train, y_train))\n",
    "    #print(sklearn_regressor.score(X_test, y_test))\n",
    "    print(regressor.score(X_train,y_train))\n",
    "    print(regressor.score(X_test, y_test))\n",
    " \n",
    "    return regressor"
   ]
  },
  {
   "cell_type": "markdown",
   "metadata": {},
   "source": [
    "With all tree algorithms the major challenge is using the parameters to balance the bias vs variance trade-off.  \n",
    "\n",
    "To start, check how the model preforms when using the default values."
   ]
  },
  {
   "cell_type": "code",
   "execution_count": 464,
   "metadata": {},
   "outputs": [
    {
     "name": "stdout",
     "output_type": "stream",
     "text": [
      "0.983040081337222\n",
      "0.8885788330224786\n"
     ]
    }
   ],
   "source": [
    "#R2 scores with new parameter\n",
    "trained_regressor = train_score_regressor(sklearn_regressor=DecisionTreeRegressor,\n",
    "                                          X_train=X_train, \n",
    "                                          y_train=y_train, \n",
    "                                          X_test=X_test, \n",
    "                                          y_test=y_test, \n",
    "                                          model_parameters={'random_state':42})"
   ]
  },
  {
   "cell_type": "markdown",
   "metadata": {},
   "source": [
    "Based on my run, I managed to get a perfect r2 scored on the training data but perform somewhat poorly on the test data.  This is a clear indication that the model has **overfit to the training data**.\n",
    "\n",
    "The default sklearn's implementation of a DecisionTreeRegressor does not put any restrictions on the depth of the tree, the number of samples per leaf, etc.  Consequently, the model finds signal in the noise of the training data set, overfits and performs poorly on the test data.  \n",
    "\n",
    "When a model overfits to a training data set, we say it has **high variance**.  Since an unconstrained decision tree will almost perfectly model any training data, it will vary tremendously depending on the training data that is provided."
   ]
  },
  {
   "cell_type": "markdown",
   "metadata": {},
   "source": [
    "### 4. Parameter tuning\n",
    "To reduce the variance, we constrain the model using some of the provided parameters for example:\n",
    "- Criterion (Cost function used to measure the purity of a split)\n",
    "- Maximum depth of the tree\n",
    "- Minimum samples for each node split\n",
    "- Minimum samples for each terminal node\n",
    "- Maximum number of terminal nodes\n",
    "\n",
    "Look back over the [slides](https://docs.google.com/presentation/d/1leWPbwis9GJHJcQehlhPhtKEAErUPvlTpKjnkv1aWWU/edit?usp=sharing) or use this [useful blog](https://www.analyticsvidhya.com/blog/2016/04/complete-tutorial-tree-based-modeling-scratch-in-python/#four) for a refresher on decision tree parameters.\n",
    "\n",
    "Initially, we are going to experiment with the max_depth parameter only. "
   ]
  },
  {
   "cell_type": "code",
   "execution_count": 465,
   "metadata": {},
   "outputs": [
    {
     "name": "stdout",
     "output_type": "stream",
     "text": [
      "0.9319316047580971\n",
      "0.938965237672608\n"
     ]
    }
   ],
   "source": [
    "# Define the model parameters \n",
    "# We are fixing the random state so that the results are reproducible and consistent.\n",
    "parameters = {\"max_depth\":6,\n",
    "              'random_state':42}\n",
    "\n",
    "# Train and evaluate the model\n",
    "trained_regressor = train_score_regressor(sklearn_regressor=DecisionTreeRegressor,\n",
    "                                          X_train=X_train, \n",
    "                                          y_train=y_train, \n",
    "                                          X_test=X_test, \n",
    "                                          y_test=y_test, \n",
    "                                          model_parameters=parameters)"
   ]
  },
  {
   "cell_type": "markdown",
   "metadata": {},
   "source": [
    "Although the training r2 score has dropped significantly, the test r2 score increased. Since the goal is develop a model that accurately predict data we have never seen, that is the metric we care about!\n",
    "\n"
   ]
  },
  {
   "cell_type": "markdown",
   "metadata": {},
   "source": [
    "** IMPORTANT**\n",
    "\n",
    "A DecisionTreeRegressor with a max depth of only 4 is still rather complicated. To develop your intuition for the various input parameters, manually adjust them up and down to see the impacts.\n",
    "\n",
    "Overall we're aiming for the highest predictive power on the test set. However, if you were to tune the parameters manually towards a higher score on the test data set, we would overfit to this specific test data set and the model would not generalize well to a secondary test data set.  \n",
    "To avoid this, we will use k-fold validation. In addition to k-fold validation, we will use sklearn's GridSearchCV, which allows us using k-fold validation to assess every permuation of possible values for the parameters that we provide. See the [Advanced Material](#AdvancedCV) at the bottom of this notebook for a quick overview of these two methods.\n",
    "\n",
    "**Note** since we are training one regressor one time for each possible permutation of specified parameter values, this next cell will take some time to run.  That is why you need to gain an intuition for which values to test!"
   ]
  },
  {
   "cell_type": "markdown",
   "metadata": {},
   "source": [
    "## Question 4. Write code to manipulate multiple parameters, in addition to max_depth illustrated above and use GridSearchCV to search for best tree (2 points)"
   ]
  },
  {
   "cell_type": "code",
   "execution_count": 466,
   "metadata": {},
   "outputs": [
    {
     "name": "stderr",
     "output_type": "stream",
     "text": [
      "/Applications/anaconda3/lib/python3.7/site-packages/sklearn/model_selection/_split.py:1978: FutureWarning: The default value of cv will change from 3 to 5 in version 0.22. Specify it explicitly to silence this warning.\n",
      "  warnings.warn(CV_WARNING, FutureWarning)\n"
     ]
    },
    {
     "data": {
      "text/plain": [
       "GridSearchCV(cv=None, error_score='raise',\n",
       "             estimator=DecisionTreeRegressor(criterion='mse', max_depth=None,\n",
       "                                             max_features=None,\n",
       "                                             max_leaf_nodes=None,\n",
       "                                             min_impurity_decrease=0.0,\n",
       "                                             min_impurity_split=None,\n",
       "                                             min_samples_leaf=1,\n",
       "                                             min_samples_split=2,\n",
       "                                             min_weight_fraction_leaf=0.0,\n",
       "                                             presort=False, random_state=42,\n",
       "                                             splitter='best'),\n",
       "             iid='warn', n_jobs=None,\n",
       "             param_grid={'max_depth': [8, 10, 14],\n",
       "                         'min_impurity_decrease': [0.1, 0.01, 0.0],\n",
       "                         'min_samples_split': [10, 50, 2]},\n",
       "             pre_dispatch='2*n_jobs', refit=True, return_train_score='warn',\n",
       "             scoring=None, verbose=0)"
      ]
     },
     "execution_count": 466,
     "metadata": {},
     "output_type": "execute_result"
    }
   ],
   "source": [
    "# Set parameters to search through - known as parameter grid\n",
    "parameters = {\"max_depth\": [8,10,14],\n",
    "              'min_impurity_decrease':[.1,.01,.0],\n",
    "              'min_samples_split': [10,50,2]}\n",
    "# Initialize model\n",
    "decision_regressor= DecisionTreeRegressor(random_state=42)\n",
    "\n",
    "# Initialize GridSearch and then fit\n",
    "regressor=GridSearchCV(decision_regressor,parameters, cv=None, error_score='raise',return_train_score='warn',refit=True)\n",
    "\n",
    "#sample output shown below\n",
    "regressor.fit(X_train,y_train)"
   ]
  },
  {
   "cell_type": "code",
   "execution_count": 467,
   "metadata": {},
   "outputs": [
    {
     "data": {
      "text/plain": [
       "{'criterion': 'mse',\n",
       " 'max_depth': 8,\n",
       " 'max_features': None,\n",
       " 'max_leaf_nodes': None,\n",
       " 'min_impurity_decrease': 0.1,\n",
       " 'min_impurity_split': None,\n",
       " 'min_samples_leaf': 1,\n",
       " 'min_samples_split': 2,\n",
       " 'min_weight_fraction_leaf': 0.0,\n",
       " 'presort': False,\n",
       " 'random_state': 42,\n",
       " 'splitter': 'best'}"
      ]
     },
     "execution_count": 467,
     "metadata": {},
     "output_type": "execute_result"
    }
   ],
   "source": [
    "# print out what GridSearchCV found to be the best parameters \n",
    "regressor.best_estimator_.get_params()\n",
    "#sample output shown below"
   ]
  },
  {
   "cell_type": "code",
   "execution_count": 468,
   "metadata": {},
   "outputs": [
    {
     "name": "stdout",
     "output_type": "stream",
     "text": [
      "0.9462363358396295\n",
      "0.9279548250731658\n"
     ]
    }
   ],
   "source": [
    "# evaluate the tuned model\n",
    "trained_regressor = train_score_regressor(sklearn_regressor=DecisionTreeRegressor,\n",
    "                                          X_train=X_train, \n",
    "                                          y_train=y_train, \n",
    "                                          X_test=X_test, \n",
    "                                          y_test=y_test, \n",
    "                                          model_parameters=regressor.best_estimator_.get_params())\n",
    "#sample output shown below"
   ]
  },
  {
   "cell_type": "markdown",
   "metadata": {},
   "source": [
    "Performance on the test data has increased again for me - not bad! You should get different output based on your experimentation.\n",
    "\n",
    "The R^2 number above is pretty telling but it is always good to visualise how these look in a scattor plot."
   ]
  },
  {
   "cell_type": "markdown",
   "metadata": {},
   "source": [
    "## Question 5. Plot the results (2 points)"
   ]
  },
  {
   "cell_type": "code",
   "execution_count": 469,
   "metadata": {},
   "outputs": [],
   "source": [
    "#data preprocessing for graphs and predictions \n",
    "pred1=regressor.predict(X_train)\n",
    "pred2=regressor.predict(X_test)\n",
    "\n",
    "df_train=pd.DataFrame(pred1)\n",
    "df_test=pd.DataFrame(pred2)\n",
    "\n",
    "train_funded=y_train\n",
    "test_funded=y_test\n",
    "\n",
    "\n"
   ]
  },
  {
   "cell_type": "code",
   "execution_count": 470,
   "metadata": {
    "scrolled": true
   },
   "outputs": [
    {
     "data": {
      "image/png": "[encoded data removed]",
      "text/plain": [
       "<Figure size 432x288 with 1 Axes>"
      ]
     },
     "metadata": {
      "needs_background": "light"
     },
     "output_type": "display_data"
    }
   ],
   "source": [
    "#Predicted vs actual for training data\n",
    "plt.scatter(train_funded,df_train)\n",
    "plt.xlabel('true values')\n",
    "plt.ylabel('predicted values')\n",
    "plt.show()"
   ]
  },
  {
   "cell_type": "code",
   "execution_count": 471,
   "metadata": {},
   "outputs": [
    {
     "data": {
      "image/png": "[encoded data removed]",
      "text/plain": [
       "<Figure size 432x288 with 1 Axes>"
      ]
     },
     "metadata": {
      "needs_background": "light"
     },
     "output_type": "display_data"
    }
   ],
   "source": [
    "#Predicted vs actual for test data\n",
    "plt.scatter(test_funded,df_test)\n",
    "plt.xlabel('true values')\n",
    "plt.ylabel('predicted values')\n",
    "plt.show()"
   ]
  },
  {
   "cell_type": "markdown",
   "metadata": {},
   "source": [
    "\n",
    "<br>\n",
    "<br> \n",
    "<br>\n",
    "\n",
    "----"
   ]
  }
 ],
 "metadata": {
  "kernelspec": {
   "display_name": "Python 3",
   "language": "python",
   "name": "python3"
  },
  "language_info": {
   "codemirror_mode": {
    "name": "ipython",
    "version": 3
   },
   "file_extension": ".py",
   "mimetype": "text/x-python",
   "name": "python",
   "nbconvert_exporter": "python",
   "pygments_lexer": "ipython3",
   "version": "3.7.4"
  }
 },
 "nbformat": 4,
 "nbformat_minor": 2
}

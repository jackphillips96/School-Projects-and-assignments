{
 "cells": [
  {
   "cell_type": "markdown",
   "metadata": {},
   "source": [
    "## Assignment 2 (Part b):  Polynomial Regression\n",
    "\n",
    "The univariate (one dependent variable) and multivariate (more than one dependent variable) linear regression we have discussed so far always assumes a linear relationship between the independent and dependent variables.  In the real world, it is very common to have data where there is a non-linear relationship between the independent and dependent variables.  In these cases, we can use polynomial regression where we assume the relationship between the independent variable x and the dependent variable(s) y is modelled as an nth degree polynomial in x.\n",
    "\n",
    "For example, we discussed briefly in lecture that the relationship between number of miles walked per day and age can be modeled by a quadratic equation."
   ]
  },
  {
   "cell_type": "code",
   "execution_count": 167,
   "metadata": {},
   "outputs": [],
   "source": [
    "import numpy as np\n",
    "import matplotlib.pyplot as plt\n",
    "import statistics as s\n",
    "import pandas as pd\n",
    "import seaborn as sns\n",
    "plt.rcParams['figure.figsize'] = (12, 8)\n",
    "sns.set()\n",
    "sns.set(font_scale=1.5)\n",
    "\n",
    "import statsmodels.formula.api as sm\n",
    "from sklearn.model_selection import train_test_split\n",
    "\n",
    "\n",
    "np.random.seed(1234)"
   ]
  },
  {
   "cell_type": "code",
   "execution_count": 168,
   "metadata": {},
   "outputs": [],
   "source": [
    "kms = np.random.normal(5, 2, 50)\n",
    "ages = np.random.normal(40,13,50)\n",
    "ages = [a if a > 0 else -a for a in ages]"
   ]
  },
  {
   "cell_type": "code",
   "execution_count": 169,
   "metadata": {},
   "outputs": [
    {
     "name": "stdout",
     "output_type": "stream",
     "text": [
      "50\n",
      "50\n"
     ]
    }
   ],
   "source": [
    "first_kms = sorted(kms[0:int(round(len(kms)/2,0))])\n",
    "second_kms = sorted(kms[int(round(len(kms)/2,0)):len(kms)], reverse=True)\n",
    "\n",
    "ages = sorted(ages)\n",
    "kms = first_kms + second_kms\n",
    "print(len(kms))\n",
    "print(len(ages))"
   ]
  },
  {
   "cell_type": "code",
   "execution_count": 170,
   "metadata": {},
   "outputs": [],
   "source": [
    "df = pd.DataFrame({\"age\": ages, \"kilometers\": kms})"
   ]
  },
  {
   "cell_type": "code",
   "execution_count": 171,
   "metadata": {
    "scrolled": true
   },
   "outputs": [
    {
     "data": {
      "text/html": [
       "<div>\n",
       "<style scoped>\n",
       "    .dataframe tbody tr th:only-of-type {\n",
       "        vertical-align: middle;\n",
       "    }\n",
       "\n",
       "    .dataframe tbody tr th {\n",
       "        vertical-align: top;\n",
       "    }\n",
       "\n",
       "    .dataframe thead th {\n",
       "        text-align: right;\n",
       "    }\n",
       "</style>\n",
       "<table border=\"1\" class=\"dataframe\">\n",
       "  <thead>\n",
       "    <tr style=\"text-align: right;\">\n",
       "      <th></th>\n",
       "      <th>age</th>\n",
       "      <th>kilometers</th>\n",
       "    </tr>\n",
       "  </thead>\n",
       "  <tbody>\n",
       "    <tr>\n",
       "      <td>0</td>\n",
       "      <td>6.325717</td>\n",
       "      <td>0.514630</td>\n",
       "    </tr>\n",
       "    <tr>\n",
       "      <td>1</td>\n",
       "      <td>8.794103</td>\n",
       "      <td>0.957490</td>\n",
       "    </tr>\n",
       "    <tr>\n",
       "      <td>2</td>\n",
       "      <td>21.204469</td>\n",
       "      <td>1.906189</td>\n",
       "    </tr>\n",
       "    <tr>\n",
       "      <td>3</td>\n",
       "      <td>21.774347</td>\n",
       "      <td>2.618049</td>\n",
       "    </tr>\n",
       "    <tr>\n",
       "      <td>4</td>\n",
       "      <td>25.015432</td>\n",
       "      <td>3.558823</td>\n",
       "    </tr>\n",
       "    <tr>\n",
       "      <td>5</td>\n",
       "      <td>25.145793</td>\n",
       "      <td>3.688061</td>\n",
       "    </tr>\n",
       "    <tr>\n",
       "      <td>6</td>\n",
       "      <td>26.103146</td>\n",
       "      <td>3.726953</td>\n",
       "    </tr>\n",
       "    <tr>\n",
       "      <td>7</td>\n",
       "      <td>26.637943</td>\n",
       "      <td>4.331845</td>\n",
       "    </tr>\n",
       "    <tr>\n",
       "      <td>8</td>\n",
       "      <td>27.334928</td>\n",
       "      <td>4.374696</td>\n",
       "    </tr>\n",
       "    <tr>\n",
       "      <td>9</td>\n",
       "      <td>27.958694</td>\n",
       "      <td>4.594707</td>\n",
       "    </tr>\n",
       "    <tr>\n",
       "      <td>10</td>\n",
       "      <td>29.789342</td>\n",
       "      <td>5.004237</td>\n",
       "    </tr>\n",
       "    <tr>\n",
       "      <td>11</td>\n",
       "      <td>32.398663</td>\n",
       "      <td>5.031393</td>\n",
       "    </tr>\n",
       "    <tr>\n",
       "      <td>12</td>\n",
       "      <td>32.872848</td>\n",
       "      <td>5.386843</td>\n",
       "    </tr>\n",
       "    <tr>\n",
       "      <td>13</td>\n",
       "      <td>33.345543</td>\n",
       "      <td>5.578184</td>\n",
       "    </tr>\n",
       "    <tr>\n",
       "      <td>14</td>\n",
       "      <td>34.408756</td>\n",
       "      <td>5.810907</td>\n",
       "    </tr>\n",
       "    <tr>\n",
       "      <td>15</td>\n",
       "      <td>34.800460</td>\n",
       "      <td>5.942870</td>\n",
       "    </tr>\n",
       "    <tr>\n",
       "      <td>16</td>\n",
       "      <td>35.518042</td>\n",
       "      <td>6.106878</td>\n",
       "    </tr>\n",
       "    <tr>\n",
       "      <td>17</td>\n",
       "      <td>37.289516</td>\n",
       "      <td>6.719177</td>\n",
       "    </tr>\n",
       "    <tr>\n",
       "      <td>18</td>\n",
       "      <td>38.119946</td>\n",
       "      <td>6.774326</td>\n",
       "    </tr>\n",
       "    <tr>\n",
       "      <td>19</td>\n",
       "      <td>38.688063</td>\n",
       "      <td>6.906648</td>\n",
       "    </tr>\n",
       "    <tr>\n",
       "      <td>20</td>\n",
       "      <td>38.934688</td>\n",
       "      <td>6.983892</td>\n",
       "    </tr>\n",
       "    <tr>\n",
       "      <td>21</td>\n",
       "      <td>39.085517</td>\n",
       "      <td>7.300071</td>\n",
       "    </tr>\n",
       "    <tr>\n",
       "      <td>22</td>\n",
       "      <td>39.538331</td>\n",
       "      <td>7.636303</td>\n",
       "    </tr>\n",
       "    <tr>\n",
       "      <td>23</td>\n",
       "      <td>40.513665</td>\n",
       "      <td>7.642316</td>\n",
       "    </tr>\n",
       "    <tr>\n",
       "      <td>24</td>\n",
       "      <td>41.037950</td>\n",
       "      <td>7.865414</td>\n",
       "    </tr>\n",
       "    <tr>\n",
       "      <td>25</td>\n",
       "      <td>41.984197</td>\n",
       "      <td>9.781921</td>\n",
       "    </tr>\n",
       "    <tr>\n",
       "      <td>26</td>\n",
       "      <td>42.138884</td>\n",
       "      <td>7.117938</td>\n",
       "    </tr>\n",
       "    <tr>\n",
       "      <td>27</td>\n",
       "      <td>42.754484</td>\n",
       "      <td>7.095157</td>\n",
       "    </tr>\n",
       "    <tr>\n",
       "      <td>28</td>\n",
       "      <td>42.950513</td>\n",
       "      <td>7.091877</td>\n",
       "    </tr>\n",
       "    <tr>\n",
       "      <td>29</td>\n",
       "      <td>43.520866</td>\n",
       "      <td>6.727435</td>\n",
       "    </tr>\n",
       "    <tr>\n",
       "      <td>30</td>\n",
       "      <td>44.003595</td>\n",
       "      <td>6.683349</td>\n",
       "    </tr>\n",
       "    <tr>\n",
       "      <td>31</td>\n",
       "      <td>44.602264</td>\n",
       "      <td>6.510828</td>\n",
       "    </tr>\n",
       "    <tr>\n",
       "      <td>32</td>\n",
       "      <td>46.006777</td>\n",
       "      <td>6.351108</td>\n",
       "    </tr>\n",
       "    <tr>\n",
       "      <td>33</td>\n",
       "      <td>46.037100</td>\n",
       "      <td>5.674875</td>\n",
       "    </tr>\n",
       "    <tr>\n",
       "      <td>34</td>\n",
       "      <td>46.805604</td>\n",
       "      <td>5.495584</td>\n",
       "    </tr>\n",
       "    <tr>\n",
       "      <td>35</td>\n",
       "      <td>46.867746</td>\n",
       "      <td>5.430537</td>\n",
       "    </tr>\n",
       "    <tr>\n",
       "      <td>36</td>\n",
       "      <td>47.354598</td>\n",
       "      <td>5.249426</td>\n",
       "    </tr>\n",
       "    <tr>\n",
       "      <td>37</td>\n",
       "      <td>48.215733</td>\n",
       "      <td>5.152399</td>\n",
       "    </tr>\n",
       "    <tr>\n",
       "      <td>38</td>\n",
       "      <td>49.154967</td>\n",
       "      <td>5.072284</td>\n",
       "    </tr>\n",
       "    <tr>\n",
       "      <td>39</td>\n",
       "      <td>49.161368</td>\n",
       "      <td>5.036578</td>\n",
       "    </tr>\n",
       "    <tr>\n",
       "      <td>40</td>\n",
       "      <td>49.975794</td>\n",
       "      <td>4.755817</td>\n",
       "    </tr>\n",
       "    <tr>\n",
       "      <td>41</td>\n",
       "      <td>50.615721</td>\n",
       "      <td>4.726410</td>\n",
       "    </tr>\n",
       "    <tr>\n",
       "      <td>42</td>\n",
       "      <td>50.933114</td>\n",
       "      <td>4.633783</td>\n",
       "    </tr>\n",
       "    <tr>\n",
       "      <td>43</td>\n",
       "      <td>52.803958</td>\n",
       "      <td>4.354410</td>\n",
       "    </tr>\n",
       "    <tr>\n",
       "      <td>44</td>\n",
       "      <td>53.439410</td>\n",
       "      <td>4.204320</td>\n",
       "    </tr>\n",
       "    <tr>\n",
       "      <td>45</td>\n",
       "      <td>57.174373</td>\n",
       "      <td>4.061389</td>\n",
       "    </tr>\n",
       "    <tr>\n",
       "      <td>46</td>\n",
       "      <td>58.095821</td>\n",
       "      <td>3.867108</td>\n",
       "    </tr>\n",
       "    <tr>\n",
       "      <td>47</td>\n",
       "      <td>60.093564</td>\n",
       "      <td>3.205686</td>\n",
       "    </tr>\n",
       "    <tr>\n",
       "      <td>48</td>\n",
       "      <td>66.101958</td>\n",
       "      <td>1.365946</td>\n",
       "    </tr>\n",
       "    <tr>\n",
       "      <td>49</td>\n",
       "      <td>66.397847</td>\n",
       "      <td>0.850045</td>\n",
       "    </tr>\n",
       "  </tbody>\n",
       "</table>\n",
       "</div>"
      ],
      "text/plain": [
       "          age  kilometers\n",
       "0    6.325717    0.514630\n",
       "1    8.794103    0.957490\n",
       "2   21.204469    1.906189\n",
       "3   21.774347    2.618049\n",
       "4   25.015432    3.558823\n",
       "5   25.145793    3.688061\n",
       "6   26.103146    3.726953\n",
       "7   26.637943    4.331845\n",
       "8   27.334928    4.374696\n",
       "9   27.958694    4.594707\n",
       "10  29.789342    5.004237\n",
       "11  32.398663    5.031393\n",
       "12  32.872848    5.386843\n",
       "13  33.345543    5.578184\n",
       "14  34.408756    5.810907\n",
       "15  34.800460    5.942870\n",
       "16  35.518042    6.106878\n",
       "17  37.289516    6.719177\n",
       "18  38.119946    6.774326\n",
       "19  38.688063    6.906648\n",
       "20  38.934688    6.983892\n",
       "21  39.085517    7.300071\n",
       "22  39.538331    7.636303\n",
       "23  40.513665    7.642316\n",
       "24  41.037950    7.865414\n",
       "25  41.984197    9.781921\n",
       "26  42.138884    7.117938\n",
       "27  42.754484    7.095157\n",
       "28  42.950513    7.091877\n",
       "29  43.520866    6.727435\n",
       "30  44.003595    6.683349\n",
       "31  44.602264    6.510828\n",
       "32  46.006777    6.351108\n",
       "33  46.037100    5.674875\n",
       "34  46.805604    5.495584\n",
       "35  46.867746    5.430537\n",
       "36  47.354598    5.249426\n",
       "37  48.215733    5.152399\n",
       "38  49.154967    5.072284\n",
       "39  49.161368    5.036578\n",
       "40  49.975794    4.755817\n",
       "41  50.615721    4.726410\n",
       "42  50.933114    4.633783\n",
       "43  52.803958    4.354410\n",
       "44  53.439410    4.204320\n",
       "45  57.174373    4.061389\n",
       "46  58.095821    3.867108\n",
       "47  60.093564    3.205686\n",
       "48  66.101958    1.365946\n",
       "49  66.397847    0.850045"
      ]
     },
     "execution_count": 171,
     "metadata": {},
     "output_type": "execute_result"
    }
   ],
   "source": [
    "df\n",
    "#below is a dataframe I made to experiment with polynomial regression"
   ]
  },
  {
   "cell_type": "markdown",
   "metadata": {},
   "source": [
    "## Question 1. Plot histogram of age and kilometers and age vs. kilometers (sample output shown in the graphs below) (2 points)\n"
   ]
  },
  {
   "cell_type": "code",
   "execution_count": 172,
   "metadata": {},
   "outputs": [
    {
     "data": {
      "text/plain": [
       "(array([ 2.,  0.,  2.,  7.,  6., 10., 11.,  7.,  3.,  2.]),\n",
       " array([ 6.32571659, 12.33292964, 18.34014268, 24.34735573, 30.35456878,\n",
       "        36.36178183, 42.36899488, 48.37620793, 54.38342097, 60.39063402,\n",
       "        66.39784707]),\n",
       " <a list of 10 Patch objects>)"
      ]
     },
     "execution_count": 172,
     "metadata": {},
     "output_type": "execute_result"
    },
    {
     "data": {
      "image/png": "[encoded data removed]",
      "text/plain": [
       "<Figure size 864x576 with 1 Axes>"
      ]
     },
     "metadata": {},
     "output_type": "display_data"
    }
   ],
   "source": [
    "#histrogram of age\n",
    "plt.hist(x='age',data=df)"
   ]
  },
  {
   "cell_type": "code",
   "execution_count": 173,
   "metadata": {},
   "outputs": [
    {
     "data": {
      "text/plain": [
       "(array([ 4.,  1.,  2.,  6., 11.,  9.,  9.,  7.,  0.,  1.]),\n",
       " array([0.51463009, 1.44135919, 2.36808828, 3.29481737, 4.22154647,\n",
       "        5.14827556, 6.07500466, 7.00173375, 7.92846284, 8.85519194,\n",
       "        9.78192103]),\n",
       " <a list of 10 Patch objects>)"
      ]
     },
     "execution_count": 173,
     "metadata": {},
     "output_type": "execute_result"
    },
    {
     "data": {
      "image/png": "[encoded data removed]",
      "text/plain": [
       "<Figure size 864x576 with 1 Axes>"
      ]
     },
     "metadata": {},
     "output_type": "display_data"
    }
   ],
   "source": [
    "#histogram of kilometers\n",
    "plt.hist(x='kilometers',data=df)"
   ]
  },
  {
   "cell_type": "code",
   "execution_count": 174,
   "metadata": {},
   "outputs": [
    {
     "data": {
      "image/png": "[encoded data removed]",
      "text/plain": [
       "<Figure size 864x576 with 1 Axes>"
      ]
     },
     "metadata": {},
     "output_type": "display_data"
    }
   ],
   "source": [
    "# plot kilometers vs. age\n",
    "plt.scatter(x='age',y='kilometers',data=df)\n",
    "plt.xlabel('Age')\n",
    "plt.ylabel('Kilometers')\n",
    "plt.show()"
   ]
  },
  {
   "cell_type": "markdown",
   "metadata": {},
   "source": [
    "## Question 2. Does the above relationship look linear to you?  If no, what kind of relationship do you think it is? (1 point)\n"
   ]
  },
  {
   "cell_type": "markdown",
   "metadata": {},
   "source": [
    "Does the above relationship look linear to you?  If no, what kind of relationship do you think it is?\n",
    "\n",
    "It starts off looking linear but then takes a sharp turn almost looking like it goes from linear positive to linear negative. Therefore, it is not a linear relationship. I think this is an inverse U shapped relationship. "
   ]
  },
  {
   "cell_type": "markdown",
   "metadata": {},
   "source": [
    "## Question 3. Fit a parabola (a 2-degree polynomial) to the data (3 points)\n"
   ]
  },
  {
   "cell_type": "code",
   "execution_count": 175,
   "metadata": {},
   "outputs": [
    {
     "name": "stdout",
     "output_type": "stream",
     "text": [
      "                            OLS Regression Results                            \n",
      "==============================================================================\n",
      "Dep. Variable:             kilometers   R-squared:                       0.756\n",
      "Model:                            OLS   Adj. R-squared:                  0.743\n",
      "Method:                 Least Squares   F-statistic:                     57.38\n",
      "Date:                Wed, 26 Feb 2020   Prob (F-statistic):           4.57e-12\n",
      "Time:                        16:27:57   Log-Likelihood:                -52.635\n",
      "No. Observations:                  40   AIC:                             111.3\n",
      "Df Residuals:                      37   BIC:                             116.3\n",
      "Df Model:                           2                                         \n",
      "Covariance Type:            nonrobust                                         \n",
      "====================================================================================\n",
      "                       coef    std err          t      P>|t|      [0.025      0.975]\n",
      "------------------------------------------------------------------------------------\n",
      "Intercept           -4.1822      0.881     -4.749      0.000      -5.967      -2.398\n",
      "np.power(age, 2)    -0.0065      0.001    -10.069      0.000      -0.008      -0.005\n",
      "age                  0.5157      0.048     10.650      0.000       0.418       0.614\n",
      "==============================================================================\n",
      "Omnibus:                        1.853   Durbin-Watson:                   2.009\n",
      "Prob(Omnibus):                  0.396   Jarque-Bera (JB):                1.734\n",
      "Skew:                           0.424   Prob(JB):                        0.420\n",
      "Kurtosis:                       2.432   Cond. No.                     1.15e+04\n",
      "==============================================================================\n",
      "\n",
      "Warnings:\n",
      "[1] Standard Errors assume that the covariance matrix of the errors is correctly specified.\n",
      "[2] The condition number is large, 1.15e+04. This might indicate that there are\n",
      "strong multicollinearity or other numerical problems.\n"
     ]
    }
   ],
   "source": [
    "pd.options.mode.chained_assignment = None  # default='warn'\n",
    "\n",
    "# Define our dependent variable\n",
    "y_column = ['kilometers']\n",
    "y = df[y_column]\n",
    "# Define our independent variables\n",
    "x_columns = ['age']\n",
    "X = df[x_columns]\n",
    "#Splitting data into training and test\n",
    "X_train, X_test, y_train, y_test = train_test_split(X, y, test_size=0.2, random_state=42)\n",
    "#combining x_train,y_train into one df\n",
    "train=np.hstack((X_train, y_train))\n",
    "train=pd.DataFrame(train)\n",
    "train=train.rename(columns={0:'age',1:'kilometers'})\n",
    "\n",
    "#creating ols model\n",
    "model=sm.ols('kilometers~(np.power(age,2))+age', data=train).fit()\n",
    "\n",
    "print(model.summary())\n"
   ]
  },
  {
   "cell_type": "markdown",
   "metadata": {},
   "source": [
    "## Question 4. Predit on training data and plot the results (1 point)\n"
   ]
  },
  {
   "cell_type": "code",
   "execution_count": 176,
   "metadata": {},
   "outputs": [
    {
     "data": {
      "image/png": "[encoded data removed]",
      "text/plain": [
       "<Figure size 864x576 with 1 Axes>"
      ]
     },
     "metadata": {},
     "output_type": "display_data"
    }
   ],
   "source": [
    "#Predicted and true kilometers by age for training data\n",
    "pred1=model.predict()\n",
    "plt.scatter('age','kilometers',data=train)\n",
    "plt.scatter(X_train,pred1)\n",
    "plt.xlabel('Age')\n",
    "plt.ylabel('Kilometers')\n",
    "plt.show()"
   ]
  },
  {
   "cell_type": "code",
   "execution_count": 177,
   "metadata": {},
   "outputs": [
    {
     "data": {
      "text/plain": [
       "Intercept          -4.182212\n",
       "np.power(age, 2)   -0.006509\n",
       "age                 0.515704\n",
       "dtype: float64"
      ]
     },
     "execution_count": 177,
     "metadata": {},
     "output_type": "execute_result"
    }
   ],
   "source": [
    "p = model.params\n",
    "p"
   ]
  },
  {
   "cell_type": "markdown",
   "metadata": {},
   "source": [
    "## Question 5.  Finish this notebook to fit the model to the test data.  How is the fit? (4 points)\n"
   ]
  },
  {
   "cell_type": "code",
   "execution_count": 178,
   "metadata": {},
   "outputs": [
    {
     "data": {
      "image/png": "[encoded data removed]",
      "text/plain": [
       "<Figure size 864x576 with 1 Axes>"
      ]
     },
     "metadata": {},
     "output_type": "display_data"
    }
   ],
   "source": [
    "#Predicted and true kilometers by age for test data\n",
    "pred2=model.predict(X_test)\n",
    "test=np.hstack((X_test, y_test))\n",
    "test=pd.DataFrame(test)\n",
    "test=test.rename(columns={0:'age',1:'kilometers'})\n",
    "\n",
    "plt.scatter('age','kilometers',data=test)\n",
    "plt.scatter(X_test,pred2)\n",
    "plt.xlabel('Age')\n",
    "plt.ylabel('Kilometers')\n",
    "plt.show()"
   ]
  },
  {
   "cell_type": "code",
   "execution_count": null,
   "metadata": {},
   "outputs": [],
   "source": []
  }
 ],
 "metadata": {
  "kernelspec": {
   "display_name": "Python 3",
   "language": "python",
   "name": "python3"
  },
  "language_info": {
   "codemirror_mode": {
    "name": "ipython",
    "version": 3
   },
   "file_extension": ".py",
   "mimetype": "text/x-python",
   "name": "python",
   "nbconvert_exporter": "python",
   "pygments_lexer": "ipython3",
   "version": "3.7.4"
  }
 },
 "nbformat": 4,
 "nbformat_minor": 2
}
